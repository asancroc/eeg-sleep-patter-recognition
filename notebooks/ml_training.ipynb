{
 "cells": [
  {
   "cell_type": "code",
   "execution_count": 2,
   "metadata": {},
   "outputs": [],
   "source": [
    "import os\n",
    "import sys\n",
    "import glob\n",
    "import numpy as np\n",
    "import pandas as pd\n",
    "import pickle\n",
    "\n",
    "from sklearn import svm\n",
    "from sklearn.ensemble import AdaBoostClassifier\n",
    "from sklearn.ensemble import RandomForestClassifier\n",
    "from sklearn.tree import DecisionTreeClassifier\n",
    "from sklearn.linear_model import SGDClassifier\n",
    "from sklearn.linear_model import LogisticRegression\n",
    "from sklearn.decomposition import PCA\n",
    "\n",
    "import seaborn as sns\n",
    "import matplotlib.pyplot as plt\n",
    "from sklearn.metrics import (\n",
    "    f1_score,\n",
    "    roc_auc_score,\n",
    ")\n",
    "\n",
    "sys.path.append(os.path.join(os.path.dirname(os.path.realpath('__file__')), '../'))\n",
    "from data import gather_signals_by_class\n",
    "from exp_utils import (\n",
    "    normalize_df_columns_0_1,\n",
    "    display_roc_and_f1, display_conf_matrix,\n",
    "    save_ml_model, load_ml_model\n",
    ")\n",
    "from experiments import d_users_split\n"
   ]
  },
  {
   "cell_type": "code",
   "execution_count": null,
   "metadata": {},
   "outputs": [],
   "source": [
    "def get_df_from_csv(l_csv: list, num_features: int):\n",
    "    # filtering csv files list by user id\n",
    "    df = pd.DataFrame()\n",
    "\n",
    "    for path in l_csv[:]:\n",
    "        temp_df = pd.read_csv(path, delimiter=';', header=0)\n",
    "        df = pd.concat([df, temp_df], ignore_index=True)    \n",
    "\n",
    "\n",
    "    print(' >> Normalizando: [0,1]')\n",
    "    df = normalize_df_columns_0_1(df)\n",
    "\n",
    "    X = df.iloc[:, :63]  # Features (sensor data)\n",
    "    y = df.iloc[:, 63]\n",
    "\n",
    "    if num_features < 63:\n",
    "        print(' >> Running PCA')\n",
    "        pca = PCA(n_components=num_features)\n",
    "        X = pca.fit_transform(X)\n",
    "\n",
    "    df = pd.DataFrame(X, columns = [f'sensor_{i}' for i in range(num_features)])\n",
    "    df['label'] = y.values  # Adding the labels back\n",
    "\n",
    "    return df\n",
    "\n",
    "def save_ml_model(ml_model, model_path):\n",
    "    with open(model_path,'wb') as f:\n",
    "        pickle.dump(ml_model,f)\n",
    "\n",
    "def load_ml_model(model_path):\n",
    "    with open(model_path,'rb') as f:\n",
    "        model = pickle.load(f)\n",
    "    return model\n"
   ]
  },
  {
   "cell_type": "code",
   "execution_count": null,
   "metadata": {},
   "outputs": [],
   "source": [
    "paths_csv = glob.glob('../zhang-wamsley-2019/data/CSV/*.csv')\n",
    "\n",
    "num_features = 63\n",
    "window_size = 40"
   ]
  },
  {
   "cell_type": "markdown",
   "metadata": {},
   "source": []
  },
  {
   "cell_type": "markdown",
   "metadata": {},
   "source": [
    "# Training Preparation"
   ]
  },
  {
   "cell_type": "code",
   "execution_count": null,
   "metadata": {},
   "outputs": [],
   "source": [
    "paths_train = [path for path in paths_csv \n",
    "                       if any(user_id in path \n",
    "                              for user_id in d_users_split['train']+d_users_split['val'])]\n",
    "\n",
    "len(paths_train)"
   ]
  },
  {
   "cell_type": "code",
   "execution_count": null,
   "metadata": {},
   "outputs": [],
   "source": [
    "df_train = get_df_from_csv(paths_train, num_features)\n",
    "df_train"
   ]
  },
  {
   "cell_type": "code",
   "execution_count": null,
   "metadata": {},
   "outputs": [],
   "source": [
    "X_train = df_train.iloc[:, :num_features]  # Features (sensor data)\n",
    "y_train = df_train.iloc[:, num_features]"
   ]
  },
  {
   "cell_type": "code",
   "execution_count": null,
   "metadata": {},
   "outputs": [],
   "source": [
    "X_train"
   ]
  },
  {
   "cell_type": "code",
   "execution_count": null,
   "metadata": {},
   "outputs": [],
   "source": [
    "y_train"
   ]
  },
  {
   "cell_type": "markdown",
   "metadata": {},
   "source": [
    "### Flatten window size slots"
   ]
  },
  {
   "cell_type": "code",
   "execution_count": null,
   "metadata": {},
   "outputs": [],
   "source": [
    "df_train = gather_signals_by_class(df_train, num_signals=window_size)\n",
    "\n",
    "data_train = df_train[[f'sensor_{i}' for i in range(num_features)]].values\n",
    "data_train.shape"
   ]
  },
  {
   "cell_type": "code",
   "execution_count": null,
   "metadata": {},
   "outputs": [],
   "source": [
    "# Flatten\n",
    "data_reshaped_train = data_train.reshape(-1, window_size, data_train.shape[1])\n",
    "data_reshaped_train = data_reshaped_train.reshape(data_reshaped_train.shape[0], -1)\n",
    "data_reshaped_train.shape"
   ]
  },
  {
   "cell_type": "code",
   "execution_count": null,
   "metadata": {},
   "outputs": [],
   "source": [
    "labels_train = df_train['label'].values[::window_size]\n",
    "labels_train.shape"
   ]
  },
  {
   "cell_type": "markdown",
   "metadata": {},
   "source": []
  },
  {
   "cell_type": "markdown",
   "metadata": {},
   "source": [
    "# Testing Preparation"
   ]
  },
  {
   "cell_type": "code",
   "execution_count": null,
   "metadata": {},
   "outputs": [],
   "source": [
    "paths_test = [path for path in paths_csv \n",
    "                       if any(user_id in path \n",
    "                              for user_id in d_users_split['test'])]\n",
    "\n",
    "len(paths_test)"
   ]
  },
  {
   "cell_type": "code",
   "execution_count": null,
   "metadata": {},
   "outputs": [],
   "source": [
    "df_test = get_df_from_csv(paths_test, num_features)\n",
    "df_test"
   ]
  },
  {
   "cell_type": "code",
   "execution_count": null,
   "metadata": {},
   "outputs": [],
   "source": [
    "X_test = df_test.iloc[:, :num_features]  # Features (sensor data)\n",
    "y_test = df_test.iloc[:, num_features]"
   ]
  },
  {
   "cell_type": "code",
   "execution_count": null,
   "metadata": {},
   "outputs": [],
   "source": [
    "X_test"
   ]
  },
  {
   "cell_type": "code",
   "execution_count": null,
   "metadata": {},
   "outputs": [],
   "source": [
    "y_test"
   ]
  },
  {
   "cell_type": "markdown",
   "metadata": {},
   "source": [
    "### Flatten window size slots"
   ]
  },
  {
   "cell_type": "code",
   "execution_count": null,
   "metadata": {},
   "outputs": [],
   "source": [
    "df_test = gather_signals_by_class(df_test, num_signals=window_size)\n",
    "\n",
    "data_test = df_test[[f'sensor_{i}' for i in range(num_features)]].values\n",
    "data_test.shape"
   ]
  },
  {
   "cell_type": "code",
   "execution_count": null,
   "metadata": {},
   "outputs": [],
   "source": [
    "# Flatten\n",
    "data_reshaped_test = data_test.reshape(-1, window_size, data_test.shape[1])\n",
    "data_reshaped_test = data_reshaped_test.reshape(data_reshaped_test.shape[0], -1)\n",
    "data_reshaped_test.shape"
   ]
  },
  {
   "cell_type": "code",
   "execution_count": null,
   "metadata": {},
   "outputs": [],
   "source": [
    "labels_test = df_test['label'].values[::window_size]\n",
    "labels_test.shape"
   ]
  },
  {
   "cell_type": "markdown",
   "metadata": {},
   "source": []
  },
  {
   "cell_type": "markdown",
   "metadata": {},
   "source": [
    "# SVM - Support Vector Machine"
   ]
  },
  {
   "cell_type": "code",
   "execution_count": null,
   "metadata": {},
   "outputs": [],
   "source": [
    "model_path = '..\\models\\ml_models\\svm\\.pkl'\n",
    "\n",
    "if os.path.exists(model_path):\n",
    "    print(' >> Loading model')\n",
    "    clf = load_ml_model(model_path)"
   ]
  },
  {
   "cell_type": "code",
   "execution_count": null,
   "metadata": {},
   "outputs": [],
   "source": [
    "clf = svm.SVC(\n",
    "    kernel='rbf',\n",
    "    C=1.0\n",
    ")\n",
    "\n",
    "clf.fit(data_reshaped_train, labels_train)"
   ]
  },
  {
   "cell_type": "code",
   "execution_count": null,
   "metadata": {},
   "outputs": [],
   "source": [
    "# Save model\n",
    "save_ml_model(clf, '../models/ml_models/svm.pkl')"
   ]
  },
  {
   "cell_type": "code",
   "execution_count": null,
   "metadata": {},
   "outputs": [],
   "source": [
    "y_pred_train_svm = clf.predict(data_reshaped_train)\n",
    "y_pred_train_svm"
   ]
  },
  {
   "cell_type": "code",
   "execution_count": null,
   "metadata": {},
   "outputs": [],
   "source": [
    "y_pred_test_svm = clf.predict(data_reshaped_test)\n",
    "y_pred_test_svm"
   ]
  },
  {
   "cell_type": "code",
   "execution_count": null,
   "metadata": {},
   "outputs": [],
   "source": [
    "# Show train metrics\n",
    "print(' >> Displaying Training Metrics')\n",
    "display_roc_and_f1(labels_train, y_pred_train_svm)\n",
    "display_conf_matrix(labels_train, y_pred_train_svm)"
   ]
  },
  {
   "cell_type": "code",
   "execution_count": null,
   "metadata": {},
   "outputs": [],
   "source": [
    "# Show test metrics\n",
    "print('Displaying Testing Metrics')\n",
    "display_roc_and_f1(labels_test, y_pred_test_svm)\n",
    "display_conf_matrix(labels_test, y_pred_test_svm)"
   ]
  },
  {
   "cell_type": "markdown",
   "metadata": {},
   "source": []
  },
  {
   "cell_type": "markdown",
   "metadata": {},
   "source": [
    "# Logistic Regresion"
   ]
  },
  {
   "cell_type": "code",
   "execution_count": null,
   "metadata": {},
   "outputs": [],
   "source": [
    "model_path = '..\\models\\ml_models\\logic_reg\\logic_regre_pca.pkl'\n",
    "\n",
    "if os.path.exists(model_path):\n",
    "    print(' >> Loading model')\n",
    "    lr_model = load_ml_model(model_path)"
   ]
  },
  {
   "cell_type": "code",
   "execution_count": null,
   "metadata": {},
   "outputs": [],
   "source": [
    "lr_model = LogisticRegression(\n",
    "    class_weight='balanced',\n",
    "    max_iter=10000,\n",
    "    n_jobs = -1,\n",
    "    random_state=11\n",
    ")\n",
    "\n",
    "lr_model.fit(data_reshaped_train, labels_train)"
   ]
  },
  {
   "cell_type": "code",
   "execution_count": null,
   "metadata": {},
   "outputs": [],
   "source": [
    "# Save model\n",
    "save_ml_model(lr_model, '../models/ml_models/logic_regre.pkl')"
   ]
  },
  {
   "cell_type": "code",
   "execution_count": null,
   "metadata": {},
   "outputs": [],
   "source": [
    "y_pred_train_lr = lr_model.predict(data_reshaped_train)\n",
    "y_pred_train_lr"
   ]
  },
  {
   "cell_type": "code",
   "execution_count": null,
   "metadata": {},
   "outputs": [],
   "source": [
    "y_pred_test_lr = lr_model.predict(data_reshaped_test)\n",
    "y_pred_test_lr"
   ]
  },
  {
   "cell_type": "code",
   "execution_count": null,
   "metadata": {},
   "outputs": [],
   "source": [
    "# Show train metrics\n",
    "print(' >> Displaying Training Metrics')\n",
    "display_roc_and_f1(labels_train, y_pred_train_lr)\n",
    "display_conf_matrix(labels_train, y_pred_train_lr)"
   ]
  },
  {
   "cell_type": "code",
   "execution_count": null,
   "metadata": {},
   "outputs": [],
   "source": [
    "# Show test metrics\n",
    "print('Displaying Testing Metrics')\n",
    "display_roc_and_f1(labels_test, y_pred_test_lr)\n",
    "display_conf_matrix(labels_test, y_pred_test_lr)"
   ]
  },
  {
   "cell_type": "markdown",
   "metadata": {},
   "source": []
  },
  {
   "cell_type": "markdown",
   "metadata": {},
   "source": [
    "# SGD - Stochastic Gradient Descent"
   ]
  },
  {
   "cell_type": "code",
   "execution_count": null,
   "metadata": {},
   "outputs": [],
   "source": [
    "model_path = '..\\models\\ml_models\\stochastic\\sgd_pca.pkl'\n",
    "\n",
    "if os.path.exists(model_path):\n",
    "    print(' >> Loading model')\n",
    "    sgd_clf = load_ml_model(model_path)"
   ]
  },
  {
   "cell_type": "code",
   "execution_count": null,
   "metadata": {},
   "outputs": [],
   "source": [
    "sgd_clf = SGDClassifier(\n",
    "    loss='log_loss',\n",
    "    max_iter=100000,\n",
    "    tol=1e-3,\n",
    "    random_state=42\n",
    ")\n",
    "\n",
    "sgd_clf.fit(data_reshaped_train, labels_train)"
   ]
  },
  {
   "cell_type": "code",
   "execution_count": null,
   "metadata": {},
   "outputs": [],
   "source": [
    "# Save model\n",
    "save_ml_model(sgd_clf, '../models/ml_models/sgd.pkl')"
   ]
  },
  {
   "cell_type": "code",
   "execution_count": null,
   "metadata": {},
   "outputs": [],
   "source": [
    "y_pred_train_sgd = sgd_clf.predict(data_reshaped_train)\n",
    "y_pred_train_sgd"
   ]
  },
  {
   "cell_type": "code",
   "execution_count": null,
   "metadata": {},
   "outputs": [],
   "source": [
    "y_pred_test_sgd = sgd_clf.predict(data_reshaped_test)\n",
    "y_pred_test_sgd"
   ]
  },
  {
   "cell_type": "code",
   "execution_count": null,
   "metadata": {},
   "outputs": [],
   "source": [
    "# Show train metrics\n",
    "print(' >> Displaying Training Metrics')\n",
    "display_roc_and_f1(labels_train, y_pred_train_sgd)\n",
    "display_conf_matrix(labels_train, y_pred_train_sgd)"
   ]
  },
  {
   "cell_type": "code",
   "execution_count": null,
   "metadata": {},
   "outputs": [],
   "source": [
    "# Show test metrics\n",
    "print('Displaying Testing Metrics')\n",
    "display_roc_and_f1(labels_test, y_pred_test_sgd)\n",
    "display_conf_matrix(labels_test, y_pred_test_sgd)"
   ]
  },
  {
   "cell_type": "markdown",
   "metadata": {},
   "source": []
  },
  {
   "cell_type": "markdown",
   "metadata": {},
   "source": [
    "# Decision Tree"
   ]
  },
  {
   "cell_type": "code",
   "execution_count": null,
   "metadata": {},
   "outputs": [],
   "source": [
    "model_path = '..\\models\\ml_models\\decision_tree\\dtc_g_pca.pkl'\n",
    "\n",
    "if os.path.exists(model_path):\n",
    "    print(' >> Loading model')\n",
    "    dtc_g = load_ml_model(model_path)"
   ]
  },
  {
   "cell_type": "code",
   "execution_count": null,
   "metadata": {},
   "outputs": [],
   "source": [
    "dtc_g = DecisionTreeClassifier(\n",
    "    class_weight='balanced',\n",
    "    random_state=1,\n",
    "    max_depth=20\n",
    ")\n",
    "\n",
    "dtc_g.fit(data_reshaped_train, labels_train)"
   ]
  },
  {
   "cell_type": "code",
   "execution_count": null,
   "metadata": {},
   "outputs": [],
   "source": [
    "# Save model\n",
    "save_ml_model(dtc_g, '../models/ml_models/dtc_g.pkl')"
   ]
  },
  {
   "cell_type": "code",
   "execution_count": null,
   "metadata": {},
   "outputs": [],
   "source": [
    "y_pred_train_dt = dtc_g.predict(data_reshaped_train)\n",
    "y_pred_train_dt"
   ]
  },
  {
   "cell_type": "code",
   "execution_count": null,
   "metadata": {},
   "outputs": [],
   "source": [
    "y_pred_test_dt = dtc_g.predict(data_reshaped_test)\n",
    "y_pred_test_dt"
   ]
  },
  {
   "cell_type": "code",
   "execution_count": null,
   "metadata": {},
   "outputs": [],
   "source": [
    "# Show train metrics\n",
    "print(' >> Displaying Training Metrics')\n",
    "display_roc_and_f1(labels_train, y_pred_train_dt)\n",
    "display_conf_matrix(labels_train, y_pred_train_dt)"
   ]
  },
  {
   "cell_type": "code",
   "execution_count": null,
   "metadata": {},
   "outputs": [],
   "source": [
    "# Show test metrics\n",
    "print('Displaying Testing Metrics')\n",
    "display_roc_and_f1(labels_test, y_pred_test_dt)\n",
    "display_conf_matrix(labels_test, y_pred_test_dt)"
   ]
  },
  {
   "cell_type": "markdown",
   "metadata": {},
   "source": []
  },
  {
   "cell_type": "markdown",
   "metadata": {},
   "source": [
    "# Random Forest"
   ]
  },
  {
   "cell_type": "code",
   "execution_count": null,
   "metadata": {},
   "outputs": [],
   "source": [
    "model_path = '..\\models\\ml_models\\random_forest\\rdf_pca.pkl'\n",
    "\n",
    "if os.path.exists(model_path):\n",
    "    print(' >> Loading model')\n",
    "    rdf = load_ml_model(model_path)"
   ]
  },
  {
   "cell_type": "code",
   "execution_count": null,
   "metadata": {},
   "outputs": [],
   "source": [
    "rdf = RandomForestClassifier(\n",
    "    random_state=1,\n",
    "    n_estimators=400,\n",
    "    class_weight='balanced',\n",
    "    max_depth=20,\n",
    ")\n",
    "\n",
    "rdf.fit(data_reshaped_train, labels_train)"
   ]
  },
  {
   "cell_type": "code",
   "execution_count": null,
   "metadata": {},
   "outputs": [],
   "source": [
    "# Save model\n",
    "save_ml_model(rdf, '../models/ml_models/rdf.pkl')"
   ]
  },
  {
   "cell_type": "code",
   "execution_count": null,
   "metadata": {},
   "outputs": [],
   "source": [
    "y_pred_train_rdf = rdf.predict(data_reshaped_train)\n",
    "y_pred_train_rdf"
   ]
  },
  {
   "cell_type": "code",
   "execution_count": null,
   "metadata": {},
   "outputs": [],
   "source": [
    "y_pred_test_rdf = rdf.predict(data_reshaped_test)\n",
    "y_pred_test_rdf"
   ]
  },
  {
   "cell_type": "code",
   "execution_count": null,
   "metadata": {},
   "outputs": [],
   "source": [
    "# Show train metrics\n",
    "print(' >> Displaying Training Metrics')\n",
    "display_roc_and_f1(labels_train, y_pred_train_rdf)\n",
    "display_conf_matrix(labels_train, y_pred_train_rdf)"
   ]
  },
  {
   "cell_type": "code",
   "execution_count": null,
   "metadata": {},
   "outputs": [],
   "source": [
    "# Show test metrics\n",
    "print('Displaying Testing Metrics')\n",
    "display_roc_and_f1(labels_test, y_pred_test_rdf)\n",
    "display_conf_matrix(labels_test, y_pred_test_rdf)"
   ]
  },
  {
   "cell_type": "markdown",
   "metadata": {},
   "source": []
  },
  {
   "cell_type": "markdown",
   "metadata": {},
   "source": [
    "# Ada Boost"
   ]
  },
  {
   "cell_type": "code",
   "execution_count": null,
   "metadata": {},
   "outputs": [],
   "source": [
    "model_path = '..\\models\\ml_models\\adaBoost\\ada.pkl'\n",
    "\n",
    "if os.path.exists(model_path):\n",
    "    print(' >> Loading model')\n",
    "    ada = load_ml_model(model_path)"
   ]
  },
  {
   "cell_type": "code",
   "execution_count": null,
   "metadata": {},
   "outputs": [],
   "source": [
    "ada = AdaBoostClassifier(\n",
    "    n_estimators=100,\n",
    "    random_state=42\n",
    ")\n",
    "\n",
    "ada.fit(data_reshaped_train, labels_train)"
   ]
  },
  {
   "cell_type": "code",
   "execution_count": null,
   "metadata": {},
   "outputs": [],
   "source": [
    "# Save model\n",
    "save_ml_model(ada, '../models/ml_models/ada.pkl')"
   ]
  },
  {
   "cell_type": "code",
   "execution_count": null,
   "metadata": {},
   "outputs": [],
   "source": [
    "y_pred_train_ada = ada.predict(data_reshaped_train)\n",
    "y_pred_train_ada"
   ]
  },
  {
   "cell_type": "code",
   "execution_count": null,
   "metadata": {},
   "outputs": [],
   "source": [
    "y_pred_test_ada = ada.predict(data_reshaped_test)\n",
    "y_pred_test_ada"
   ]
  },
  {
   "cell_type": "code",
   "execution_count": null,
   "metadata": {},
   "outputs": [],
   "source": [
    "# Show train metrics\n",
    "print(' >> Displaying Training Metrics')\n",
    "display_roc_and_f1(labels_train, y_pred_train_ada)\n",
    "display_conf_matrix(labels_train, y_pred_train_ada)"
   ]
  },
  {
   "cell_type": "code",
   "execution_count": null,
   "metadata": {},
   "outputs": [],
   "source": [
    "# Show test metrics\n",
    "print('Displaying Testing Metrics')\n",
    "display_roc_and_f1(labels_test, y_pred_test_ada)\n",
    "display_conf_matrix(labels_test, y_pred_test_ada)"
   ]
  }
 ],
 "metadata": {
  "kernelspec": {
   "display_name": "python-ia-master",
   "language": "python",
   "name": "python3"
  },
  "language_info": {
   "codemirror_mode": {
    "name": "ipython",
    "version": 3
   },
   "file_extension": ".py",
   "mimetype": "text/x-python",
   "name": "python",
   "nbconvert_exporter": "python",
   "pygments_lexer": "ipython3",
   "version": "3.8.16"
  }
 },
 "nbformat": 4,
 "nbformat_minor": 2
}
